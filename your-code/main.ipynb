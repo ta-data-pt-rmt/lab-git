
x = input("enter your name")

print("Hellow world,", x)
 "nbformat": 4,
 "nbformat_minor": 1
}
