{
  "cells": [
    {
      "cell_type": "markdown",
      "metadata": {
        "id": "RR2Qt9g2xlcN"
      },
      "source": [
        "# Git Lab"
      ]
    },
    {
      "cell_type": "markdown",
      "metadata": {
        "id": "R3lf83ugaDu2"
      },
      "source": [
        "### 1. Change the following function to print \"Hello world, from < yourname >\""
      ]
    },
    {
      "cell_type": "code",
      "execution_count": 1,
      "metadata": {
        "id": "Q-7_OfPG38WX",
        "colab": {
          "base_uri": "https://localhost:8080/"
        },
        "outputId": "49e4400c-3588-408b-b341-297a6d862e27"
      },
      "outputs": [
        {
          "output_type": "stream",
          "name": "stdout",
          "text": [
            "Hellow world\n"
          ]
        }
      ],
      "source": [
        "print(\"Hellow world\")\n",
        "print(\"Lab one good to go\")"
      ]
    },
    {
      "cell_type": "code",
      "source": [],
      "metadata": {
        "id": "qFeZVL0yaFf6"
      },
      "execution_count": null,
      "outputs": []
    }
  ],
  "metadata": {
    "colab": {
      "provenance": []
    },
    "kernelspec": {
      "display_name": "Python 3 (ipykernel)",
      "language": "python",
      "name": "python3"
    },
    "language_info": {
      "codemirror_mode": {
        "name": "ipython",
        "version": 3
      },
      "file_extension": ".py",
      "mimetype": "text/x-python",
      "name": "python",
      "nbconvert_exporter": "python",
      "pygments_lexer": "ipython3",
      "version": "3.7.11"
    }
  },
  "nbformat": 4,
  "nbformat_minor": 0
}