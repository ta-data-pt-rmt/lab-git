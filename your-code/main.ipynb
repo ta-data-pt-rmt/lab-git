def myself(name):
    print(f"Hello World from {name}")

def ask_myself(name):
    return f"Hello World from {name}"

dearself = ask_myself("Susan")
print(dearself)
