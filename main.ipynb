{
 "cells": [
  {
   "cell_type": "code",
   "execution_count": 2,
   "id": "b4f2291c",
   "metadata": {},
   "outputs": [
    {
     "name": "stdout",
     "output_type": "stream",
     "text": [
      "Hello World, from Susan\n"
     ]
    }
   ],
   "source": [
    "#print(\"HELLO WORLD FROM YOUR NAME\")\n",
    "\n",
    "def myself(name):\n",
    "    print(f\"Hello World, from {name}\")\n",
    "\n",
    "def ask_myself(name):\n",
    "    return f\"Hello World, from {name}\"\n",
    "\n",
    "dearself = ask_myself(\"Susan\")\n",
    "print(dearself)"
   ]
  }
 ],
 "metadata": {
  "kernelspec": {
   "display_name": "Python 3 (ipykernel)",
   "language": "python",
   "name": "python3"
  },
  "language_info": {
   "codemirror_mode": {
    "name": "ipython",
    "version": 3
   },
   "file_extension": ".py",
   "mimetype": "text/x-python",
   "name": "python",
   "nbconvert_exporter": "python",
   "pygments_lexer": "ipython3",
   "version": "3.9.13"
  }
 },
 "nbformat": 4,
 "nbformat_minor": 5
}
